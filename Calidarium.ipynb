{
 "cells": [
  {
   "cell_type": "markdown",
   "id": "4aae5fdd",
   "metadata": {},
   "source": [
    "#### Calidarium"
   ]
  },
  {
   "cell_type": "markdown",
   "id": "3f3c72f8",
   "metadata": {},
   "source": [
    "Era la prima tra le stanze che si incontravano all'uscita dagli spogliatoi, si tratta di una sala circolare, con diametro di 34 metri, dotata di cupola con estradosso e quattro grandi finestre. Era la sala per i trattamenti con vapore e acqua calda. Il sistema di riscaldamento è detto a ipocausto (avveniva tramite condotti in laterizio bucati che facevano fuoriuscire l’aria calda mediante le spensurae (intercapedini di mattoni))."
   ]
  }
 ],
 "metadata": {
  "hide_input": false,
  "kernelspec": {
   "display_name": "Python 3 (ipykernel)",
   "language": "python",
   "name": "python3"
  },
  "language_info": {
   "codemirror_mode": {
    "name": "ipython",
    "version": 3
   },
   "file_extension": ".py",
   "mimetype": "text/x-python",
   "name": "python",
   "nbconvert_exporter": "python",
   "pygments_lexer": "ipython3",
   "version": "3.10.0"
  }
 },
 "nbformat": 4,
 "nbformat_minor": 5
}

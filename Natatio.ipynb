{
 "cells": [
  {
   "cell_type": "markdown",
   "id": "3012d48f",
   "metadata": {},
   "source": [
    "#### Natatio"
   ]
  },
  {
   "cell_type": "markdown",
   "id": "9587d172",
   "metadata": {},
   "source": [
    "Una vera e propria piscina Olimpionica scoperta, un ambiente di grande impatto monumentale. La facciata Nord, divisa in tre parti da gigantesche colonne in marmo grigio. Su entrambi i lati corti della struttura, grazie ad una scalinata, si entrava nell' acqua, che non doveva essere molto alta. I Romani, amavano molto i giochi da tavolo, che praticavano su scacchiere di varie forme. Questi giochi tuttavia, non erano praticati soltanto su tavoli, poichè sono state ritrovate ovunque, \" Tabulae Lusorie \", incise su lastre di marmo di Basiliche e su gradini di piscine. I romani passavano molto tempo a giocare a biglie su queste lastre marmoree, immersi nell' acqua."
   ]
  }
 ],
 "metadata": {
  "hide_input": false,
  "kernelspec": {
   "display_name": "Python 3 (ipykernel)",
   "language": "python",
   "name": "python3"
  },
  "language_info": {
   "codemirror_mode": {
    "name": "ipython",
    "version": 3
   },
   "file_extension": ".py",
   "mimetype": "text/x-python",
   "name": "python",
   "nbconvert_exporter": "python",
   "pygments_lexer": "ipython3",
   "version": "3.10.0"
  }
 },
 "nbformat": 4,
 "nbformat_minor": 5
}

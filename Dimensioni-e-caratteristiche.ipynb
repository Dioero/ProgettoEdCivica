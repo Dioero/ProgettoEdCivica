{
 "cells": [
  {
   "cell_type": "markdown",
   "id": "a0b0cc81",
   "metadata": {},
   "source": [
    "## Dimensioni e caratteristiche"
   ]
  },
  {
   "cell_type": "markdown",
   "id": "d3239553",
   "metadata": {},
   "source": [
    "Il funzionamento dell’edificio fu dettato dall’innesto di un condotto (collocato nello storico Acquedotto dell’Acqua Marcia). Questo permise di raccogliere l’acqua in un grande serbatoio di 80.000 metri cubi di capienza e in una serie di condotti sviluppati su tre piani ipogei. Il complesso termale è costruito a pianta rettangolare e ha un’estensione complessiva pari a 337*328 metri quadri, basti pensare che il limite di capienza raggiungesse le 2600 persone.\n",
    "Tutte le pareti sono edificate in opus caementicium (si tratta di un muro costruito a sacco: il calcestruzzo viene fatto colare fra due pareti in legno, pietra o mattone, e successivamente lasciato asciugare.) e rivestite in mattoni.\n",
    "Gli interni sono decorati da stucchi e marmi, mentre le pavimentazioni con maestosi mosaici dai colori accesi e brillanti (immagine qui sotto). \n",
    "Le terme di Caracalla sono anche la sede di importanti statue come l'Ercole Farnese."
   ]
  },
  {
   "cell_type": "markdown",
   "id": "5dd360fa",
   "metadata": {},
   "source": [
    "<img align=\"left\" width=\"150\" src=\" https://www.ia-ostiaantica.org/news/wp-content/uploads/2015/02/caracalla-mosaico.jpg\">\n",
    "<img align=\"right\" width=\"200\" src=\" https://www.capitolivm.it/wp-content/uploads/2017/01/caementicum-300x278-1.jpg\"> \n",
    "<img align=\"central\" width=\"100\" src=\"https://www.ilpuntoquotidiano.it/wp-content/uploads/2019/07/Ercole-Farnese-160x300.jpg\">"
   ]
  },
  {
   "cell_type": "markdown",
   "id": "6f82962b",
   "metadata": {},
   "source": [
    "### Ercole Farnese"
   ]
  },
  {
   "cell_type": "markdown",
   "id": "e433f676",
   "metadata": {},
   "source": [
    "La statua qui in basso rappresenta l'Ercole a riposo, che nella mano destra, dietro la schiena, stringe i pomi delle Esperidi. Il busto è rilassato e sbilanciato a sinistra e appoggiato sulla clava con sopra la pelle di leone. Il piede sinistro è leggermente avanzato rispetto al destro. Importante precisare che la statua è stata restaurata più volte.\n"
   ]
  }
 ],
 "metadata": {
  "hide_input": true,
  "kernelspec": {
   "display_name": "Python 3 (ipykernel)",
   "language": "python",
   "name": "python3"
  },
  "language_info": {
   "codemirror_mode": {
    "name": "ipython",
    "version": 3
   },
   "file_extension": ".py",
   "mimetype": "text/x-python",
   "name": "python",
   "nbconvert_exporter": "python",
   "pygments_lexer": "ipython3",
   "version": "3.10.2"
  }
 },
 "nbformat": 4,
 "nbformat_minor": 5
}

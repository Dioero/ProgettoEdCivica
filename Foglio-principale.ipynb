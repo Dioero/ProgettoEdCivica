{
 "cells": [
  {
   "cell_type": "markdown",
   "id": "9f96872d",
   "metadata": {},
   "source": [
    "# Terme di Caracalla (o antoniane) "
   ]
  },
  {
   "cell_type": "code",
   "execution_count": 1,
   "id": "4e02bf3d",
   "metadata": {
    "scrolled": false,
    "tags": [
     "hide-input"
    ]
   },
   "outputs": [
    {
     "data": {
      "image/jpeg": "[encoded data removed]",
      "text/html": [
       "\n",
       "        <iframe\n",
       "            width=\"800\"\n",
       "            height=\"300\"\n",
       "            src=\"https://www.youtube.com/embed/Dso390-qnlI\"\n",
       "            frameborder=\"0\"\n",
       "            allowfullscreen\n",
       "            \n",
       "        ></iframe>\n",
       "        "
      ],
      "text/plain": [
       "<IPython.lib.display.YouTubeVideo at 0x7f6a603d7b50>"
      ]
     },
     "execution_count": 1,
     "metadata": {},
     "output_type": "execute_result"
    }
   ],
   "source": [
    "from IPython.display import YouTubeVideo\n",
    "YouTubeVideo('Dso390-qnlI', width=800, height=300)"
   ]
  },
  {
   "cell_type": "markdown",
   "id": "12a8b2ca",
   "metadata": {},
   "source": [
    "Le Terme di Caracalla Sono collocate poco fuori dal centro della città di Roma ed è sicuramente grazie alla loro posizione geografica che abbiamo la possibilità di ammirare un edificio così ben conservato ai giorni nostri (di fatti costituiscono il complesso termale meglio conservato dall’Età Imperiale). Inoltre sono seconde per estensione dopo quelle di Diocleziano. L'arteficie di quest'opera così monumentale e suggestiva è l'imperatore Lucio Settimio Bassiano (passato alla storia con il soprannome di \"Caracalla\" per la sua abitudine di vestirsi con un mantello dall'omonimo nome). Queste terme sono considerate una delle sette meraviglie di Roma, famose per la ricchezza delle loro decorazioni e delle opere che le abbellivano. All'epoca i bagni pubblici come queste terme, costituivano il più grande elemento di svago per i cittadini romani."
   ]
  },
  {
   "cell_type": "markdown",
   "id": "c10d7f6b",
   "metadata": {},
   "source": [
    "<img align=\"left\" width=\"800\" src=\"https://www.fotoeweb.it/roma/Caracalla/Roma%20Terme%20di%20Caracalla%20ricostruzione.jpg\">"
   ]
  },
  {
   "cell_type": "markdown",
   "id": "6780f37e",
   "metadata": {},
   "source": [
    "1. [Collocazione e struttura](Collocazione-e-struttura.ipynb)\n",
    "2. [Funzioni](Funzioni.ipynb)\n",
    "3. [Dimensioni e caratteristiche](Dimensioni-e-caratteristiche.ipynb)\n",
    "4. [Fonti](Fonti.ipynb)\n",
    "5. [Test](Test.ipynb)"
   ]
  }
 ],
 "metadata": {
  "hide_input": true,
  "kernelspec": {
   "display_name": "Python 3 (ipykernel)",
   "language": "python",
   "name": "python3"
  },
  "language_info": {
   "codemirror_mode": {
    "name": "ipython",
    "version": 3
   },
   "file_extension": ".py",
   "mimetype": "text/x-python",
   "name": "python",
   "nbconvert_exporter": "python",
   "pygments_lexer": "ipython3",
   "version": "3.10.2"
  }
 },
 "nbformat": 4,
 "nbformat_minor": 5
}

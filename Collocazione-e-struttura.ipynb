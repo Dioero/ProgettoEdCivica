{
 "cells": [
  {
   "cell_type": "markdown",
   "id": "be17e704",
   "metadata": {},
   "source": [
    "## Collocazione e struttura"
   ]
  },
  {
   "cell_type": "markdown",
   "id": "25a0714a",
   "metadata": {},
   "source": [
    "Furono realizzate nel tratto iniziale della Via Appia, a sud di Roma, poco lontane dal Circo Massimo e dal Colosseo. I lavori per la realizzazione ebbero inizio nel 211 d.C sotto ordine dell’imperatore Caracalla e nel 216 d.C. venne inaugurato l’[edificio centrale](Edificio-centrale.ipynb) circondato da un ampio giardino rigoglioso, mentre in un secondo momento, staccato dal centro, il recinto esterno\n",
    "(formato da un grande edificio continuo con taverne e portici, che conteneva servizi vari come le biblioteche o i negozi) venne portato a compimento dai successori dell’imperatore. \n"
   ]
  }
 ],
 "metadata": {
  "hide_input": true,
  "kernelspec": {
   "display_name": "Python 3 (ipykernel)",
   "language": "python",
   "name": "python3"
  },
  "language_info": {
   "codemirror_mode": {
    "name": "ipython",
    "version": 3
   },
   "file_extension": ".py",
   "mimetype": "text/x-python",
   "name": "python",
   "nbconvert_exporter": "python",
   "pygments_lexer": "ipython3",
   "version": "3.10.2"
  }
 },
 "nbformat": 4,
 "nbformat_minor": 5
}

{
 "cells": [
  {
   "cell_type": "markdown",
   "id": "d1d84ca4",
   "metadata": {},
   "source": [
    "## Funzioni"
   ]
  },
  {
   "cell_type": "markdown",
   "id": "b0a1a47e",
   "metadata": {},
   "source": [
    "Erano bagni aperti a tutti, fondamentali per l’igiene personale dei Romani, molto vantaggiosi visto l'incremento demografico di quel tempo, si rivelarono vitali per le persone residenti nelle insulae(palazzi popolari con servizi igienici in comune, o totalmente assenti) che non avevano la possibilità di lavarsi. Altra ragione per frequentare le terme era quella del ritrovo in compagnia per chiacchierare, riposarsi o discutere di affari. Insomma quella delle terme costituiva una vera e propria sosta quotidiana."
   ]
  }
 ],
 "metadata": {
  "hide_input": false,
  "kernelspec": {
   "display_name": "Python 3 (ipykernel)",
   "language": "python",
   "name": "python3"
  },
  "language_info": {
   "codemirror_mode": {
    "name": "ipython",
    "version": 3
   },
   "file_extension": ".py",
   "mimetype": "text/x-python",
   "name": "python",
   "nbconvert_exporter": "python",
   "pygments_lexer": "ipython3",
   "version": "3.10.0"
  }
 },
 "nbformat": 4,
 "nbformat_minor": 5
}

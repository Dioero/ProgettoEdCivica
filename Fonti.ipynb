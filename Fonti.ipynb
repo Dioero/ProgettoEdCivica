{
 "cells": [
  {
   "cell_type": "markdown",
   "id": "cb4458f4",
   "metadata": {},
   "source": [
    "## Fonti"
   ]
  },
  {
   "cell_type": "markdown",
   "id": "432443b7",
   "metadata": {},
   "source": [
    "Libro “CAPIRE L’ARTE 1”, Atlas, pagine: 246/302/303\n",
    "Libro “CHIAVE DI VOLTA 1”, Loescher Editore\n",
    "https://www.fotoeweb.it/roma/Caracalla/Roma%20Terme%20di%20Caracalla%20ricostruzione.jpg\n",
    "https://www.capitolivm.it/wp-content/uploads/2017/01/caementicum-300x278-1.jpg\n",
    "https://www.ia-ostiaantica.org/news/wp-content/uploads/2015/02/caracalla-mosaico.jpg \n",
    "https://www.ilpuntoquotidiano.it/wp-content/uploads/2019/07/Ercole-Farnese-160x300.jpg \n",
    "http://www.conosciamoroma.it/conosciamoroma/index.php?option=com_k2&view=item&id=243:natatio-terme-di-caracalla"
   ]
  }
 ],
 "metadata": {
  "kernelspec": {
   "display_name": "Python 3 (ipykernel)",
   "language": "python",
   "name": "python3"
  },
  "language_info": {
   "codemirror_mode": {
    "name": "ipython",
    "version": 3
   },
   "file_extension": ".py",
   "mimetype": "text/x-python",
   "name": "python",
   "nbconvert_exporter": "python",
   "pygments_lexer": "ipython3",
   "version": "3.10.2"
  }
 },
 "nbformat": 4,
 "nbformat_minor": 5
}
